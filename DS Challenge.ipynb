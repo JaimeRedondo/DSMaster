{
 "cells": [
  {
   "cell_type": "code",
   "execution_count": 1,
   "metadata": {},
   "outputs": [],
   "source": [
    "import pandas as pd\n",
    "import matplotlib.pyplot as plt\n",
    "import numpy as np\n",
    "import scipy as sp\n",
    "import seaborn as sns\n",
    "from scipy import stats\n",
    "import statsmodels.api as sm\n",
    "%matplotlib inline\n",
    "plt.style.use('seaborn')\n",
    "import bz2"
   ]
  },
  {
   "cell_type": "code",
   "execution_count": 1,
   "metadata": {},
   "outputs": [
    {
     "name": "stdout",
     "output_type": "stream",
     "text": [
      "\r\n",
      "bzcat: I/O or other error, bailing out.  Possible reason follows.\r\n",
      "bzcat: Broken pipe\r\n",
      "\tInput file = /home/dsc/Data/challenge/bookings.csv.bz2, output file = (stdout)\r\n"
     ]
    }
   ],
   "source": [
    "!bzcat /home/dsc/Data/challenge/bookings.csv.bz2 | head -10000 > bookings.sample.csv"
   ]
  },
  {
   "cell_type": "code",
   "execution_count": 2,
   "metadata": {},
   "outputs": [],
   "source": [
    "!bzip2 -f bookings.sample.csv"
   ]
  },
  {
   "cell_type": "code",
   "execution_count": 4,
   "metadata": {},
   "outputs": [
    {
     "name": "stdout",
     "output_type": "stream",
     "text": [
      "10000\r\n"
     ]
    }
   ],
   "source": [
    "#cuento numero de lineas\n",
    "! bzcat bookings.sample.csv.bz2 | wc -l"
   ]
  },
  {
   "cell_type": "code",
   "execution_count": 5,
   "metadata": {},
   "outputs": [],
   "source": [
    "#ahora con python\n",
    "import bz2\n",
    "fileBz2=bz2.BZ2File('/home/dsc/Downloads/bookings.sample.csv.bz2')"
   ]
  },
  {
   "cell_type": "code",
   "execution_count": 7,
   "metadata": {},
   "outputs": [
    {
     "name": "stdout",
     "output_type": "stream",
     "text": [
      "10000\n"
     ]
    }
   ],
   "source": [
    "#EN python se hará así\n",
    "fileBz2=bz2.BZ2File('/home/dsc/Downloads/bookings.sample.csv.bz2')\n",
    "k=0\n",
    "for line in fileBz2:\n",
    "    k+=1\n",
    "print(k)\n",
    "\n"
   ]
  },
  {
   "cell_type": "code",
   "execution_count": 10,
   "metadata": {},
   "outputs": [
    {
     "data": {
      "text/plain": [
       "False"
      ]
     },
     "execution_count": 10,
     "metadata": {},
     "output_type": "execute_result"
    }
   ],
   "source": [
    "#importante cerrar archivo\n",
    "fileBz2.closed"
   ]
  },
  {
   "cell_type": "code",
   "execution_count": 11,
   "metadata": {},
   "outputs": [
    {
     "name": "stdout",
     "output_type": "stream",
     "text": [
      "10000\n"
     ]
    }
   ],
   "source": [
    "#mas elegante \n",
    "with bz2.BZ2File('/home/dsc/Downloads/bookings.sample.csv.bz2') as fileBz2:\n",
    "    k=0\n",
    "    for line in fileBz2:\n",
    "        k+=1\n",
    "        \n",
    "print(k)\n",
    "\n",
    "#la mejor forma de hacerlo"
   ]
  },
  {
   "cell_type": "markdown",
   "metadata": {},
   "source": [
    "# Ejercicio 2"
   ]
  },
  {
   "cell_type": "code",
   "execution_count": null,
   "metadata": {},
   "outputs": [],
   "source": []
  }
 ],
 "metadata": {
  "kernelspec": {
   "display_name": "Python 3",
   "language": "python",
   "name": "python3"
  },
  "language_info": {
   "codemirror_mode": {
    "name": "ipython",
    "version": 3
   },
   "file_extension": ".py",
   "mimetype": "text/x-python",
   "name": "python",
   "nbconvert_exporter": "python",
   "pygments_lexer": "ipython3",
   "version": "3.7.1"
  }
 },
 "nbformat": 4,
 "nbformat_minor": 2
}
