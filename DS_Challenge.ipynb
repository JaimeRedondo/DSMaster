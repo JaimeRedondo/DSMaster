{
 "cells": [
  {
   "cell_type": "code",
   "execution_count": null,
   "metadata": {},
   "outputs": [],
   "source": [
    "import pandas as pd\n",
    "import matplotlib.pyplot as plt\n",
    "import numpy as np\n",
    "import scipy as sp\n",
    "import seaborn as sns\n",
    "from scipy import stats\n",
    "import statsmodels.api as sm\n",
    "%matplotlib inline\n",
    "plt.style.use('seaborn')\n",
    "import bz2"
   ]
  },
  {
   "cell_type": "code",
   "execution_count": null,
   "metadata": {},
   "outputs": [],
   "source": [
    "!bzcat /home/dsc/Data/challenge/bookings.csv.bz2 | head -10000 > bookings.sample.csv"
   ]
  },
  {
   "cell_type": "code",
   "execution_count": null,
   "metadata": {},
   "outputs": [],
   "source": [
    "!bzip2 -f bookings.sample.csv"
   ]
  },
  {
   "cell_type": "code",
   "execution_count": null,
   "metadata": {},
   "outputs": [],
   "source": [
    "#cuento numero de lineas\n",
    "! bzcat bookings.sample.csv.bz2 | wc -l"
   ]
  },
  {
   "cell_type": "code",
   "execution_count": null,
   "metadata": {},
   "outputs": [],
   "source": [
    "#ahora con python\n",
    "import bz2\n",
    "fileBz2=bz2.BZ2File('/home/dsc/Downloads/bookings.sample.csv.bz2')"
   ]
  },
  {
   "cell_type": "code",
   "execution_count": null,
   "metadata": {},
   "outputs": [],
   "source": [
    "#EN python se hará así\n",
    "fileBz2=bz2.BZ2File('/home/dsc/Downloads/bookings.sample.csv.bz2')\n",
    "k=0\n",
    "for line in fileBz2:\n",
    "    k+=1\n",
    "print(k)\n",
    "\n"
   ]
  },
  {
   "cell_type": "code",
   "execution_count": null,
   "metadata": {},
   "outputs": [],
   "source": [
    "#importante cerrar archivo\n",
    "fileBz2.closed"
   ]
  },
  {
   "cell_type": "code",
   "execution_count": null,
   "metadata": {},
   "outputs": [],
   "source": [
    "#mas elegante \n",
    "with bz2.BZ2File('/home/dsc/Downloads/bookings.sample.csv.bz2') as fileBz2:\n",
    "    k=0\n",
    "    for line in fileBz2:\n",
    "        k+=1\n",
    "        \n",
    "print(k)\n",
    "\n",
    "#la mejor forma de hacerlo"
   ]
  },
  {
   "cell_type": "markdown",
   "metadata": {},
   "source": [
    "# Ejercicio 2"
   ]
  },
  {
   "cell_type": "markdown",
   "metadata": {},
   "source": [
    "# Sample"
   ]
  },
  {
   "cell_type": "code",
   "execution_count": null,
   "metadata": {},
   "outputs": [],
   "source": [
    "!bzcat /home/dsc/Data/challenge/bookings.csv.bz2 | head -10000 > bookings.sample.csv"
   ]
  },
  {
   "cell_type": "code",
   "execution_count": null,
   "metadata": {},
   "outputs": [],
   "source": [
    "import pandas as pd\n",
    "DATA=pd.read_csv('/home/dsc/Data/DSMaster/DSMaster/bookings.sample.csv',sep='^')"
   ]
  },
  {
   "cell_type": "code",
   "execution_count": null,
   "metadata": {},
   "outputs": [],
   "source": [
    "lista_columnas=[]\n",
    "for i in DATA.columns:\n",
    "    lista_columnas.append(i.strip())"
   ]
  },
  {
   "cell_type": "code",
   "execution_count": null,
   "metadata": {},
   "outputs": [],
   "source": [
    "DATA.columns=lista_columnas"
   ]
  },
  {
   "cell_type": "code",
   "execution_count": null,
   "metadata": {},
   "outputs": [],
   "source": [
    "DATA['rloc'].nunique()"
   ]
  },
  {
   "cell_type": "code",
   "execution_count": null,
   "metadata": {},
   "outputs": [],
   "source": [
    "lista=[]\n",
    "for i in DATA.columns:\n",
    "    A=DATA[i].isnull().sum()\n",
    "    lista.append(A)\n",
    "    \n",
    "    "
   ]
  },
  {
   "cell_type": "code",
   "execution_count": null,
   "metadata": {},
   "outputs": [],
   "source": [
    "sum(lista)\n",
    "#no hay nulos \n"
   ]
  },
  {
   "cell_type": "code",
   "execution_count": null,
   "metadata": {},
   "outputs": [],
   "source": [
    "#personas en el aeropuerto\n",
    "personas_aeropuerto=DATA.groupby(['arr_port'])['pax'].sum()"
   ]
  },
  {
   "cell_type": "code",
   "execution_count": null,
   "metadata": {},
   "outputs": [],
   "source": [
    "personas_aeropuerto.sort_values(ascending=False).head(10).to_csv('001.csv')"
   ]
  },
  {
   "cell_type": "markdown",
   "metadata": {},
   "source": [
    "# Big File"
   ]
  },
  {
   "cell_type": "code",
   "execution_count": null,
   "metadata": {},
   "outputs": [],
   "source": [
    "from tqdm import tqdm"
   ]
  },
  {
   "cell_type": "code",
   "execution_count": null,
   "metadata": {},
   "outputs": [],
   "source": [
    "lista=[]\n",
    "for chunk in tqdm(pd.read_csv('/home/dsc/Data/DSMaster/DSMaster/bookings.csv.bz2',sep='^',chunksize=10000)):\n",
    "    lista.append(len(chunk))\n",
    "    \n",
    "    lista_columnas=[]\n",
    "    for i in chunk.columns:\n",
    "        lista_columnas.append(i.strip())\n",
    "        \n",
    "    chunk.columns=lista_columnas\n",
    "    \n",
    "    chunk=chunk[['arr_port','pax']]\n",
    "    \n",
    "    #chunk['pax']=chunk['pax'].abs()\n",
    "    \n",
    "    \n",
    "    personas_aeropuerto=chunk.groupby(['arr_port'])['pax'].sum().to_frame()\n",
    "    \n",
    "    \n",
    "    if 'group_personas_aeropuerto' in locals():\n",
    "        group_personas_aeropuerto=group_personas_aeropuerto.append(personas_aeropuerto)\n",
    "    else:\n",
    "        group_personas_aeropuerto=pd.DataFrame()\n",
    "\n",
    "longitud = sum(lista)\n",
    "grupo=group_personas_aeropuerto.groupby(['arr_port']).sum()\n",
    "grupo=grupo.sort_values(by='pax',ascending=False).head(10)\n"
   ]
  },
  {
   "cell_type": "code",
   "execution_count": null,
   "metadata": {},
   "outputs": [],
   "source": [
    "grupo['pax']=grupo['pax'].apply(int)\n",
    "grupo"
   ]
  },
  {
   "cell_type": "markdown",
   "metadata": {},
   "source": [
    "# 3 ejercicio"
   ]
  },
  {
   "cell_type": "code",
   "execution_count": 1,
   "metadata": {},
   "outputs": [
    {
     "name": "stdout",
     "output_type": "stream",
     "text": [
      "\r\n",
      "bzcat: I/O or other error, bailing out.  Possible reason follows.\r\n",
      "bzcat: Broken pipe\r\n",
      "\tInput file = /home/dsc/Data/challenge/searches.csv.bz2, output file = (stdout)\r\n"
     ]
    }
   ],
   "source": [
    "!bzcat /home/dsc/Data/challenge/searches.csv.bz2 | head -50000 > searches.sample.csv"
   ]
  },
  {
   "cell_type": "code",
   "execution_count": 2,
   "metadata": {},
   "outputs": [],
   "source": [
    "import pandas as pd\n",
    "Searches=pd.read_csv('/home/dsc/Data/DSMaster/DSMaster/searches.sample.csv',sep='^')"
   ]
  },
  {
   "cell_type": "code",
   "execution_count": 3,
   "metadata": {},
   "outputs": [
    {
     "data": {
      "text/plain": [
       "Index(['Date', 'Time', 'TxnCode', 'OfficeID', 'Country', 'Origin',\n",
       "       'Destination', 'RoundTrip', 'NbSegments', 'Seg1Departure',\n",
       "       'Seg1Arrival', 'Seg1Date', 'Seg1Carrier', 'Seg1BookingCode',\n",
       "       'Seg2Departure', 'Seg2Arrival', 'Seg2Date', 'Seg2Carrier',\n",
       "       'Seg2BookingCode', 'Seg3Departure', 'Seg3Arrival', 'Seg3Date',\n",
       "       'Seg3Carrier', 'Seg3BookingCode', 'Seg4Departure', 'Seg4Arrival',\n",
       "       'Seg4Date', 'Seg4Carrier', 'Seg4BookingCode', 'Seg5Departure',\n",
       "       'Seg5Arrival', 'Seg5Date', 'Seg5Carrier', 'Seg5BookingCode',\n",
       "       'Seg6Departure', 'Seg6Arrival', 'Seg6Date', 'Seg6Carrier',\n",
       "       'Seg6BookingCode', 'From', 'IsPublishedForNeg', 'IsFromInternet',\n",
       "       'IsFromVista', 'TerminalID', 'InternetOffice'],\n",
       "      dtype='object')"
      ]
     },
     "execution_count": 3,
     "metadata": {},
     "output_type": "execute_result"
    }
   ],
   "source": [
    "Searches.columns"
   ]
  },
  {
   "cell_type": "code",
   "execution_count": 5,
   "metadata": {},
   "outputs": [],
   "source": [
    "lista_columnas=[]\n",
    "for i in Searches.columns:\n",
    "    lista_columnas.append(i.strip())\n",
    "    \n",
    "Searches.columns=lista_columnas"
   ]
  },
  {
   "cell_type": "code",
   "execution_count": 6,
   "metadata": {},
   "outputs": [],
   "source": [
    "Searches=Searches[['Date','Destination']]"
   ]
  },
  {
   "cell_type": "code",
   "execution_count": 7,
   "metadata": {},
   "outputs": [
    {
     "name": "stderr",
     "output_type": "stream",
     "text": [
      "/home/dsc/anaconda3/lib/python3.7/site-packages/ipykernel_launcher.py:2: SettingWithCopyWarning: \n",
      "A value is trying to be set on a copy of a slice from a DataFrame.\n",
      "Try using .loc[row_indexer,col_indexer] = value instead\n",
      "\n",
      "See the caveats in the documentation: http://pandas.pydata.org/pandas-docs/stable/indexing.html#indexing-view-versus-copy\n",
      "  \n"
     ]
    }
   ],
   "source": [
    "\n",
    "Searches['YearMonth']=Searches['Date'].str[0:7]"
   ]
  },
  {
   "cell_type": "code",
   "execution_count": 9,
   "metadata": {},
   "outputs": [],
   "source": [
    "Searches=Searches[['YearMonth','Destination']]\n",
    "Searches=Searches[(Searches['Destination']=='MAD')|(Searches['Destination']=='BCN')|(Searches['Destination']=='AGP')]"
   ]
  },
  {
   "cell_type": "code",
   "execution_count": 10,
   "metadata": {},
   "outputs": [],
   "source": [
    "aggregated=Searches.groupby(['YearMonth','Destination'])['Destination'].agg(['count']).reset_index()"
   ]
  },
  {
   "cell_type": "code",
   "execution_count": 11,
   "metadata": {},
   "outputs": [
    {
     "data": {
      "text/html": [
       "<div>\n",
       "<style scoped>\n",
       "    .dataframe tbody tr th:only-of-type {\n",
       "        vertical-align: middle;\n",
       "    }\n",
       "\n",
       "    .dataframe tbody tr th {\n",
       "        vertical-align: top;\n",
       "    }\n",
       "\n",
       "    .dataframe thead th {\n",
       "        text-align: right;\n",
       "    }\n",
       "</style>\n",
       "<table border=\"1\" class=\"dataframe\">\n",
       "  <thead>\n",
       "    <tr style=\"text-align: right;\">\n",
       "      <th></th>\n",
       "      <th>YearMonth</th>\n",
       "      <th>Destination</th>\n",
       "      <th>count</th>\n",
       "    </tr>\n",
       "  </thead>\n",
       "  <tbody>\n",
       "    <tr>\n",
       "      <th>0</th>\n",
       "      <td>2013-01</td>\n",
       "      <td>AGP</td>\n",
       "      <td>169</td>\n",
       "    </tr>\n",
       "    <tr>\n",
       "      <th>1</th>\n",
       "      <td>2013-01</td>\n",
       "      <td>BCN</td>\n",
       "      <td>517</td>\n",
       "    </tr>\n",
       "    <tr>\n",
       "      <th>2</th>\n",
       "      <td>2013-01</td>\n",
       "      <td>MAD</td>\n",
       "      <td>425</td>\n",
       "    </tr>\n",
       "    <tr>\n",
       "      <th>3</th>\n",
       "      <td>2013-02</td>\n",
       "      <td>AGP</td>\n",
       "      <td>97</td>\n",
       "    </tr>\n",
       "    <tr>\n",
       "      <th>4</th>\n",
       "      <td>2013-02</td>\n",
       "      <td>BCN</td>\n",
       "      <td>357</td>\n",
       "    </tr>\n",
       "    <tr>\n",
       "      <th>5</th>\n",
       "      <td>2013-02</td>\n",
       "      <td>MAD</td>\n",
       "      <td>284</td>\n",
       "    </tr>\n",
       "  </tbody>\n",
       "</table>\n",
       "</div>"
      ],
      "text/plain": [
       "  YearMonth Destination  count\n",
       "0   2013-01         AGP    169\n",
       "1   2013-01         BCN    517\n",
       "2   2013-01         MAD    425\n",
       "3   2013-02         AGP     97\n",
       "4   2013-02         BCN    357\n",
       "5   2013-02         MAD    284"
      ]
     },
     "execution_count": 11,
     "metadata": {},
     "output_type": "execute_result"
    }
   ],
   "source": [
    "aggregated"
   ]
  },
  {
   "cell_type": "code",
   "execution_count": 12,
   "metadata": {},
   "outputs": [],
   "source": [
    "import seaborn as sns\n",
    "sns.lineplot(data=aggregated,x='YearMonth',y='count',hue='Destination')\n",
    "from tqdm import tqdm\n"
   ]
  },
  {
   "cell_type": "code",
   "execution_count": null,
   "metadata": {},
   "outputs": [],
   "source": [
    "##quito duplicados"
   ]
  },
  {
   "cell_type": "code",
   "execution_count": 49,
   "metadata": {},
   "outputs": [
    {
     "name": "stderr",
     "output_type": "stream",
     "text": [
      "0it [00:00, ?it/s]\n"
     ]
    }
   ],
   "source": [
    "all_chunks=pd.DataFrame()\n",
    "\n",
    "for chunk in tqdm(pd.read_csv('/home/dsc/Data/DSMaster/DSMaster/searches.csv.bz2',sep='^',chunksize=400000)):\n",
    "    \n",
    "    lista_columnas=[]\n",
    "    for i in chunk.columns:\n",
    "        lista_columnas.append(i.strip())\n",
    "        \n",
    "    chunk.columns=lista_columnas\n",
    "    \n",
    "    all_chunks=all_chunks.append(chunk)\n",
    "    \n",
    "    all_chunks.drop_duplicates(inplace=True)\n",
    "    \n",
    "    break\n",
    "     \n",
    "    "
   ]
  },
  {
   "cell_type": "code",
   "execution_count": 53,
   "metadata": {},
   "outputs": [],
   "source": [
    "Searches=all_chunks\n",
    "Searches=Searches[['Date','Destination']]"
   ]
  },
  {
   "cell_type": "code",
   "execution_count": 54,
   "metadata": {},
   "outputs": [
    {
     "name": "stderr",
     "output_type": "stream",
     "text": [
      "/home/dsc/anaconda3/lib/python3.7/site-packages/ipykernel_launcher.py:1: SettingWithCopyWarning: \n",
      "A value is trying to be set on a copy of a slice from a DataFrame.\n",
      "Try using .loc[row_indexer,col_indexer] = value instead\n",
      "\n",
      "See the caveats in the documentation: http://pandas.pydata.org/pandas-docs/stable/indexing.html#indexing-view-versus-copy\n",
      "  \"\"\"Entry point for launching an IPython kernel.\n"
     ]
    }
   ],
   "source": [
    "Searches['YearMonth']=Searches['Date'].str[0:7]"
   ]
  },
  {
   "cell_type": "code",
   "execution_count": 55,
   "metadata": {},
   "outputs": [],
   "source": [
    "Searches=Searches[['YearMonth','Destination']]\n",
    "Searches=Searches[(Searches['Destination']=='MAD')|(Searches['Destination']=='BCN')|(Searches['Destination']=='AGP')]"
   ]
  },
  {
   "cell_type": "code",
   "execution_count": 56,
   "metadata": {},
   "outputs": [],
   "source": [
    "aggregated=Searches.groupby(['YearMonth','Destination'])['Destination'].agg(['count']).reset_index()"
   ]
  },
  {
   "cell_type": "code",
   "execution_count": 60,
   "metadata": {},
   "outputs": [
    {
     "data": {
      "text/plain": [
       "[Text(0, 0, '2013-01'),\n",
       " Text(0, 0, '2013-01'),\n",
       " Text(0, 0, '2013-01'),\n",
       " Text(0, 0, '2013-02'),\n",
       " Text(0, 0, '2013-02'),\n",
       " Text(0, 0, '2013-02'),\n",
       " Text(0, 0, '2013-03'),\n",
       " Text(0, 0, '2013-03'),\n",
       " Text(0, 0, '2013-03'),\n",
       " Text(0, 0, '2013-04'),\n",
       " Text(0, 0, '2013-04'),\n",
       " Text(0, 0, '2013-04')]"
      ]
     },
     "execution_count": 60,
     "metadata": {},
     "output_type": "execute_result"
    },
    {
     "data": {
      "image/png": "[encoded data removed]",
      "text/plain": [
       "<Figure size 432x288 with 1 Axes>"
      ]
     },
     "metadata": {
      "needs_background": "light"
     },
     "output_type": "display_data"
    }
   ],
   "source": [
    "g=sns.lineplot(data=aggregated,x='YearMonth',y='count',hue='Destination')\n",
    "g.set_xticklabels(rotation=30,labels=aggregated['YearMonth'])"
   ]
  },
  {
   "cell_type": "markdown",
   "metadata": {},
   "source": [
    "# 4 ejercicio"
   ]
  },
  {
   "cell_type": "code",
   "execution_count": null,
   "metadata": {},
   "outputs": [],
   "source": []
  }
 ],
 "metadata": {
  "kernelspec": {
   "display_name": "Python 3",
   "language": "python",
   "name": "python3"
  },
  "language_info": {
   "codemirror_mode": {
    "name": "ipython",
    "version": 3
   },
   "file_extension": ".py",
   "mimetype": "text/x-python",
   "name": "python",
   "nbconvert_exporter": "python",
   "pygments_lexer": "ipython3",
   "version": "3.7.1"
  }
 },
 "nbformat": 4,
 "nbformat_minor": 2
}
