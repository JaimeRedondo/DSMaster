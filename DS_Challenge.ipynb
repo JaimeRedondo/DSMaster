{
 "cells": [
  {
   "cell_type": "markdown",
   "metadata": {},
   "source": [
    "# AMADEUS CHALLENGE "
   ]
  },
  {
   "cell_type": "code",
   "execution_count": 1,
   "metadata": {},
   "outputs": [],
   "source": [
    "#Import libraries I am going to use\n",
    "import pandas as pd\n",
    "import matplotlib.pyplot as plt\n",
    "import numpy as np\n",
    "import scipy as sp\n",
    "import seaborn as sns\n",
    "from scipy import stats\n",
    "import statsmodels.api as sm\n",
    "%matplotlib inline\n",
    "plt.style.use('seaborn')\n",
    "import bz2"
   ]
  },
  {
   "cell_type": "code",
   "execution_count": 2,
   "metadata": {},
   "outputs": [
    {
     "name": "stdout",
     "output_type": "stream",
     "text": [
      "\n",
      "Automagic is OFF, % prefix IS needed for line magics.\n"
     ]
    }
   ],
   "source": [
    "%automagic\n",
    "#automagic is OFF (this means we need to use the prefix ! to work in Python with shell )"
   ]
  },
  {
   "cell_type": "code",
   "execution_count": 3,
   "metadata": {},
   "outputs": [
    {
     "name": "stdout",
     "output_type": "stream",
     "text": [
      "\r\n",
      "bzcat: I/O or other error, bailing out.  Possible reason follows.\r\n",
      "bzcat: Broken pipe\r\n",
      "\tInput file = /home/dsc/Data/challenge/bookings.csv.bz2, output file = (stdout)\r\n"
     ]
    }
   ],
   "source": [
    "#shell scripting : get 10.000 rows from bookings.csv.bz2 compressed file and export to bookings.sample.csv\n",
    "!bzcat /home/dsc/Data/challenge/bookings.csv.bz2 | head -10000 > bookings.sample.csv"
   ]
  },
  {
   "cell_type": "markdown",
   "metadata": {},
   "source": [
    "## Exercise 1"
   ]
  },
  {
   "cell_type": "markdown",
   "metadata": {},
   "source": [
    "### Working with sample"
   ]
  },
  {
   "cell_type": "code",
   "execution_count": 4,
   "metadata": {},
   "outputs": [
    {
     "name": "stdout",
     "output_type": "stream",
     "text": [
      "10000\r\n"
     ]
    }
   ],
   "source": [
    "#count lines of the content of the compressed file with shell.\n",
    "! bzcat bookings.sample.csv.bz2 | wc -l"
   ]
  },
  {
   "cell_type": "code",
   "execution_count": 5,
   "metadata": {},
   "outputs": [],
   "source": [
    "#with Python we read the compressed file bz2 (we have other sentence for zip)\n",
    "import bz2\n",
    "fileBz2=bz2.BZ2File('/home/dsc/Downloads/bookings.sample.csv.bz2')"
   ]
  },
  {
   "cell_type": "code",
   "execution_count": 6,
   "metadata": {},
   "outputs": [
    {
     "name": "stdout",
     "output_type": "stream",
     "text": [
      "10000\n"
     ]
    }
   ],
   "source": [
    "#Now , we create an iterator to count the number of rows of the compressed \n",
    "#file as we did before with shell scripting\n",
    "fileBz2=bz2.BZ2File('/home/dsc/Downloads/bookings.sample.csv.bz2')\n",
    "k=0\n",
    "for line in fileBz2:\n",
    "    k+=1\n",
    "print(k)"
   ]
  },
  {
   "cell_type": "code",
   "execution_count": 7,
   "metadata": {},
   "outputs": [
    {
     "data": {
      "text/plain": [
       "False"
      ]
     },
     "execution_count": 7,
     "metadata": {},
     "output_type": "execute_result"
    }
   ],
   "source": [
    "#if we work like that we need to close the file everytime we open\n",
    "fileBz2.closed"
   ]
  },
  {
   "cell_type": "code",
   "execution_count": 8,
   "metadata": {},
   "outputs": [
    {
     "name": "stdout",
     "output_type": "stream",
     "text": [
      "10000\n"
     ]
    }
   ],
   "source": [
    "#smarter and we dont need to close the file everytime we use it \n",
    "with bz2.BZ2File('/home/dsc/Downloads/bookings.sample.csv.bz2') as fileBz2:\n",
    "    k=0\n",
    "    for line in fileBz2:\n",
    "        k+=1\n",
    "        \n",
    "print(k)\n",
    "\n",
    "# is much better option to do this to open files"
   ]
  },
  {
   "cell_type": "markdown",
   "metadata": {},
   "source": [
    "## Exercise 2"
   ]
  },
  {
   "cell_type": "markdown",
   "metadata": {},
   "source": [
    "### Working with sample"
   ]
  },
  {
   "cell_type": "code",
   "execution_count": 9,
   "metadata": {},
   "outputs": [],
   "source": [
    "#We read the sample as we use to read csv in pandas , including the separator, in this particular case ='^'\n",
    "DATA=pd.read_csv('/home/dsc/Data/DSMaster/DSMaster/bookings.sample.csv',sep='^')"
   ]
  },
  {
   "cell_type": "code",
   "execution_count": 10,
   "metadata": {},
   "outputs": [
    {
     "name": "stdout",
     "output_type": "stream",
     "text": [
      "<class 'pandas.core.frame.DataFrame'>\n",
      "RangeIndex: 9999 entries, 0 to 9998\n",
      "Data columns (total 38 columns):\n",
      "act_date               9999 non-null object\n",
      "source                 9999 non-null object\n",
      "pos_ctry               9999 non-null object\n",
      "pos_iata               9999 non-null object\n",
      "pos_oid                9999 non-null object\n",
      "rloc                   9999 non-null object\n",
      "cre_date               9999 non-null object\n",
      "duration               9999 non-null int64\n",
      "distance               9999 non-null int64\n",
      "dep_port               9999 non-null object\n",
      "dep_city               9999 non-null object\n",
      "dep_ctry               9999 non-null object\n",
      "arr_port               9999 non-null object\n",
      "arr_city               9999 non-null object\n",
      "arr_ctry               9999 non-null object\n",
      "lst_port               9999 non-null object\n",
      "lst_city               9999 non-null object\n",
      "lst_ctry               9999 non-null object\n",
      "brd_port               9999 non-null object\n",
      "brd_city               9999 non-null object\n",
      "brd_ctry               9999 non-null object\n",
      "off_port               9999 non-null object\n",
      "off_city               9999 non-null object\n",
      "off_ctry               9999 non-null object\n",
      "mkt_port               9999 non-null object\n",
      "mkt_city               9999 non-null object\n",
      "mkt_ctry               9999 non-null object\n",
      "intl                   9999 non-null int64\n",
      "route                  9999 non-null object\n",
      "carrier                9999 non-null object\n",
      "bkg_class              9999 non-null object\n",
      "cab_class              9999 non-null object\n",
      "brd_time               9999 non-null object\n",
      "off_time               9999 non-null object\n",
      "pax                    9999 non-null int64\n",
      "year                   9999 non-null int64\n",
      "month                  9999 non-null int64\n",
      "oid                    9999 non-null object\n",
      "dtypes: int64(6), object(32)\n",
      "memory usage: 2.9+ MB\n"
     ]
    },
    {
     "data": {
      "text/plain": [
       "Index(['act_date           ', 'source', 'pos_ctry', 'pos_iata', 'pos_oid  ',\n",
       "       'rloc          ', 'cre_date           ', 'duration', 'distance',\n",
       "       'dep_port', 'dep_city', 'dep_ctry', 'arr_port', 'arr_city', 'arr_ctry',\n",
       "       'lst_port', 'lst_city', 'lst_ctry', 'brd_port', 'brd_city', 'brd_ctry',\n",
       "       'off_port', 'off_city', 'off_ctry', 'mkt_port', 'mkt_city', 'mkt_ctry',\n",
       "       'intl', 'route          ', 'carrier', 'bkg_class', 'cab_class',\n",
       "       'brd_time           ', 'off_time           ', 'pax', 'year', 'month',\n",
       "       'oid      '],\n",
       "      dtype='object')"
      ]
     },
     "execution_count": 10,
     "metadata": {},
     "output_type": "execute_result"
    }
   ],
   "source": [
    "## We  need to explore the dataset so I count rows and columns of it.\n",
    "#Also we see that columns hace white spaces so we need to solve it.\n",
    "DATA.info()\n",
    "DATA.columns"
   ]
  },
  {
   "cell_type": "code",
   "execution_count": 11,
   "metadata": {},
   "outputs": [
    {
     "data": {
      "text/plain": [
       "act_date               0\n",
       "source                 0\n",
       "pos_ctry               0\n",
       "pos_iata               0\n",
       "pos_oid                0\n",
       "rloc                   0\n",
       "cre_date               0\n",
       "duration               0\n",
       "distance               0\n",
       "dep_port               0\n",
       "dep_city               0\n",
       "dep_ctry               0\n",
       "arr_port               0\n",
       "arr_city               0\n",
       "arr_ctry               0\n",
       "lst_port               0\n",
       "lst_city               0\n",
       "lst_ctry               0\n",
       "brd_port               0\n",
       "brd_city               0\n",
       "brd_ctry               0\n",
       "off_port               0\n",
       "off_city               0\n",
       "off_ctry               0\n",
       "mkt_port               0\n",
       "mkt_city               0\n",
       "mkt_ctry               0\n",
       "intl                   0\n",
       "route                  0\n",
       "carrier                0\n",
       "bkg_class              0\n",
       "cab_class              0\n",
       "brd_time               0\n",
       "off_time               0\n",
       "pax                    0\n",
       "year                   0\n",
       "month                  0\n",
       "oid                    0\n",
       "dtype: int64"
      ]
     },
     "execution_count": 11,
     "metadata": {},
     "output_type": "execute_result"
    }
   ],
   "source": [
    "#We see the NaNs for each column to see if the data is ready to work.\n",
    "DATA.isna().sum()"
   ]
  },
  {
   "cell_type": "code",
   "execution_count": 12,
   "metadata": {},
   "outputs": [],
   "source": [
    "#We need to solve problems with white spaces in columns , so we are going to use the function strip()\n",
    "lista_columnas=[]\n",
    "for i in DATA.columns:\n",
    "    lista_columnas.append(i.strip())\n",
    "\n",
    "DATA.columns=lista_columnas"
   ]
  },
  {
   "cell_type": "code",
   "execution_count": 13,
   "metadata": {},
   "outputs": [],
   "source": [
    "DATA['arr_port']=DATA['arr_port'].str.upper()\n",
    "#to make sure the group by is doing well"
   ]
  },
  {
   "cell_type": "code",
   "execution_count": 14,
   "metadata": {},
   "outputs": [],
   "source": [
    "#count passengers in the airport and sort it by airport\n",
    "airport_passengers=DATA.groupby(['arr_port'])['pax'].sum()\n",
    "Top_10=airport_passengers.sort_values(ascending=False).head(10).apply(int)\n",
    "#apply int to have smarter the count result"
   ]
  },
  {
   "cell_type": "code",
   "execution_count": 15,
   "metadata": {},
   "outputs": [],
   "source": [
    "#Export result \n",
    "Top_10.to_csv('Top_10_001.csv')"
   ]
  },
  {
   "cell_type": "markdown",
   "metadata": {},
   "source": [
    "### Working with Big Data "
   ]
  },
  {
   "cell_type": "code",
   "execution_count": 16,
   "metadata": {},
   "outputs": [],
   "source": [
    "#We import this library to know how is going the execution (because with big files is not instant)\n",
    "from tqdm import tqdm"
   ]
  },
  {
   "cell_type": "code",
   "execution_count": 17,
   "metadata": {},
   "outputs": [
    {
     "name": "stderr",
     "output_type": "stream",
     "text": [
      "0it [00:00, ?it/s]/home/dsc/anaconda3/lib/python3.7/site-packages/ipykernel_launcher.py:14: SettingWithCopyWarning: \n",
      "A value is trying to be set on a copy of a slice from a DataFrame.\n",
      "Try using .loc[row_indexer,col_indexer] = value instead\n",
      "\n",
      "See the caveats in the documentation: http://pandas.pydata.org/pandas-docs/stable/indexing.html#indexing-view-versus-copy\n",
      "  \n",
      "1001it [04:01,  4.29it/s]\n"
     ]
    }
   ],
   "source": [
    "lista=[]\n",
    "group_airport_passengers=pd.DataFrame()\n",
    "for chunk in tqdm(pd.read_csv('/home/dsc/Data/DSMaster/DSMaster/bookings.csv.bz2',sep='^',chunksize=10000)):\n",
    "    lista.append(len(chunk))\n",
    "    \n",
    "    lista_columnas=[]\n",
    "    for i in chunk.columns:\n",
    "        lista_columnas.append(i.strip())\n",
    "        \n",
    "    chunk.columns=lista_columnas\n",
    "    \n",
    "    chunk=chunk[['arr_port','pax']] \n",
    "    \n",
    "    chunk['arr_port']=chunk['arr_port'].str.upper()\n",
    "    \n",
    "    airport_passengers=chunk.groupby(['arr_port'])['pax'].sum().to_frame()  \n",
    "    \n",
    "    group_airport_passengers=group_airport_passengers.append(airport_passengers)\n",
    "\n",
    "\n",
    "longitud = sum(lista)\n",
    "#length of file\n",
    "grupo=group_airport_passengers.groupby(['arr_port']).sum()\n",
    "Top_10=grupo.sort_values(by='pax',ascending=False).head(10)\n",
    "Top_10['pax']=Top_10['pax'].apply(int)\n",
    "#the same as we did with sample but iterative because there are too much data"
   ]
  },
  {
   "cell_type": "code",
   "execution_count": 18,
   "metadata": {},
   "outputs": [
    {
     "name": "stdout",
     "output_type": "stream",
     "text": [
      "The length of bookings file is 10000010\n"
     ]
    }
   ],
   "source": [
    "print('The length of bookings file is '+ str(longitud))"
   ]
  },
  {
   "cell_type": "code",
   "execution_count": 73,
   "metadata": {},
   "outputs": [],
   "source": [
    "top_airports=grupo.sort_values(by='pax',ascending=False)\n",
    "top_airports=pd.Series(top_airports.index.str.strip()).to_frame()\n",
    "top_airports.to_csv('top_airports.csv',sep='^',index=False)"
   ]
  },
  {
   "cell_type": "code",
   "execution_count": 19,
   "metadata": {},
   "outputs": [],
   "source": [
    "#Export the result\n",
    "Top_10.to_csv('Top_10_002.csv')"
   ]
  },
  {
   "cell_type": "markdown",
   "metadata": {},
   "source": [
    "# 3 ejercicio"
   ]
  },
  {
   "cell_type": "markdown",
   "metadata": {},
   "source": [
    "### Working with sample"
   ]
  },
  {
   "cell_type": "code",
   "execution_count": 20,
   "metadata": {},
   "outputs": [
    {
     "name": "stdout",
     "output_type": "stream",
     "text": [
      "\r\n",
      "bzcat: I/O or other error, bailing out.  Possible reason follows.\r\n",
      "bzcat: Broken pipe\r\n",
      "\tInput file = /home/dsc/Data/challenge/searches.csv.bz2, output file = (stdout)\r\n"
     ]
    }
   ],
   "source": [
    "#We use shell to export a sample of searches file \n",
    "!bzcat /home/dsc/Data/challenge/searches.csv.bz2 | head -50000 > searches.sample.csv"
   ]
  },
  {
   "cell_type": "code",
   "execution_count": 21,
   "metadata": {},
   "outputs": [],
   "source": [
    "#we read searches\n",
    "Searches=pd.read_csv('/home/dsc/Data/DSMaster/DSMaster/searches.sample.csv',sep='^')"
   ]
  },
  {
   "cell_type": "code",
   "execution_count": 22,
   "metadata": {},
   "outputs": [
    {
     "name": "stdout",
     "output_type": "stream",
     "text": [
      "<class 'pandas.core.frame.DataFrame'>\n",
      "RangeIndex: 49999 entries, 0 to 49998\n",
      "Data columns (total 45 columns):\n",
      "Date                 49999 non-null object\n",
      "Time                 49999 non-null object\n",
      "TxnCode              49999 non-null object\n",
      "OfficeID             49999 non-null object\n",
      "Country              49989 non-null object\n",
      "Origin               49999 non-null object\n",
      "Destination          49999 non-null object\n",
      "RoundTrip            49999 non-null int64\n",
      "NbSegments           49999 non-null int64\n",
      "Seg1Departure        49999 non-null object\n",
      "Seg1Arrival          49999 non-null object\n",
      "Seg1Date             49818 non-null object\n",
      "Seg1Carrier          19842 non-null object\n",
      "Seg1BookingCode      5651 non-null object\n",
      "Seg2Departure        36165 non-null object\n",
      "Seg2Arrival          36165 non-null object\n",
      "Seg2Date             35944 non-null object\n",
      "Seg2Carrier          14113 non-null object\n",
      "Seg2BookingCode      4878 non-null object\n",
      "Seg3Departure        2703 non-null object\n",
      "Seg3Arrival          2703 non-null object\n",
      "Seg3Date             2685 non-null object\n",
      "Seg3Carrier          2601 non-null object\n",
      "Seg3BookingCode      2541 non-null object\n",
      "Seg4Departure        2232 non-null object\n",
      "Seg4Arrival          2232 non-null object\n",
      "Seg4Date             2220 non-null object\n",
      "Seg4Carrier          2216 non-null object\n",
      "Seg4BookingCode      2199 non-null object\n",
      "Seg5Departure        459 non-null object\n",
      "Seg5Arrival          459 non-null object\n",
      "Seg5Date             455 non-null object\n",
      "Seg5Carrier          456 non-null object\n",
      "Seg5BookingCode      451 non-null object\n",
      "Seg6Departure        281 non-null object\n",
      "Seg6Arrival          281 non-null object\n",
      "Seg6Date             280 non-null object\n",
      "Seg6Carrier          281 non-null object\n",
      "Seg6BookingCode      276 non-null object\n",
      "From                 49697 non-null object\n",
      "IsPublishedForNeg    49999 non-null int64\n",
      "IsFromInternet       49999 non-null int64\n",
      "IsFromVista          49999 non-null int64\n",
      "TerminalID           49999 non-null object\n",
      "InternetOffice       49999 non-null object\n",
      "dtypes: int64(5), object(40)\n",
      "memory usage: 17.2+ MB\n"
     ]
    },
    {
     "data": {
      "text/plain": [
       "Index(['Date', 'Time', 'TxnCode', 'OfficeID', 'Country', 'Origin',\n",
       "       'Destination', 'RoundTrip', 'NbSegments', 'Seg1Departure',\n",
       "       'Seg1Arrival', 'Seg1Date', 'Seg1Carrier', 'Seg1BookingCode',\n",
       "       'Seg2Departure', 'Seg2Arrival', 'Seg2Date', 'Seg2Carrier',\n",
       "       'Seg2BookingCode', 'Seg3Departure', 'Seg3Arrival', 'Seg3Date',\n",
       "       'Seg3Carrier', 'Seg3BookingCode', 'Seg4Departure', 'Seg4Arrival',\n",
       "       'Seg4Date', 'Seg4Carrier', 'Seg4BookingCode', 'Seg5Departure',\n",
       "       'Seg5Arrival', 'Seg5Date', 'Seg5Carrier', 'Seg5BookingCode',\n",
       "       'Seg6Departure', 'Seg6Arrival', 'Seg6Date', 'Seg6Carrier',\n",
       "       'Seg6BookingCode', 'From', 'IsPublishedForNeg', 'IsFromInternet',\n",
       "       'IsFromVista', 'TerminalID', 'InternetOffice'],\n",
       "      dtype='object')"
      ]
     },
     "execution_count": 22,
     "metadata": {},
     "output_type": "execute_result"
    }
   ],
   "source": [
    "#Exploring the dataset\n",
    "Searches.info()\n",
    "Searches.columns"
   ]
  },
  {
   "cell_type": "code",
   "execution_count": 23,
   "metadata": {},
   "outputs": [
    {
     "data": {
      "text/plain": [
       "Date                     0\n",
       "Time                     0\n",
       "TxnCode                  0\n",
       "OfficeID                 0\n",
       "Country                 10\n",
       "Origin                   0\n",
       "Destination              0\n",
       "RoundTrip                0\n",
       "NbSegments               0\n",
       "Seg1Departure            0\n",
       "Seg1Arrival              0\n",
       "Seg1Date               181\n",
       "Seg1Carrier          30157\n",
       "Seg1BookingCode      44348\n",
       "Seg2Departure        13834\n",
       "Seg2Arrival          13834\n",
       "Seg2Date             14055\n",
       "Seg2Carrier          35886\n",
       "Seg2BookingCode      45121\n",
       "Seg3Departure        47296\n",
       "Seg3Arrival          47296\n",
       "Seg3Date             47314\n",
       "Seg3Carrier          47398\n",
       "Seg3BookingCode      47458\n",
       "Seg4Departure        47767\n",
       "Seg4Arrival          47767\n",
       "Seg4Date             47779\n",
       "Seg4Carrier          47783\n",
       "Seg4BookingCode      47800\n",
       "Seg5Departure        49540\n",
       "Seg5Arrival          49540\n",
       "Seg5Date             49544\n",
       "Seg5Carrier          49543\n",
       "Seg5BookingCode      49548\n",
       "Seg6Departure        49718\n",
       "Seg6Arrival          49718\n",
       "Seg6Date             49719\n",
       "Seg6Carrier          49718\n",
       "Seg6BookingCode      49723\n",
       "From                   302\n",
       "IsPublishedForNeg        0\n",
       "IsFromInternet           0\n",
       "IsFromVista              0\n",
       "TerminalID               0\n",
       "InternetOffice           0\n",
       "dtype: int64"
      ]
     },
     "execution_count": 23,
     "metadata": {},
     "output_type": "execute_result"
    }
   ],
   "source": [
    "Searches.isna().sum()\n",
    "#only we need this because the exercise does not rquired more"
   ]
  },
  {
   "cell_type": "code",
   "execution_count": 24,
   "metadata": {},
   "outputs": [],
   "source": [
    "#we do the same as we did with bookings, just in case columns have white spaces.\n",
    "lista_columnas=[]\n",
    "for i in Searches.columns:\n",
    "    lista_columnas.append(i.strip())\n",
    "    \n",
    "Searches.columns=lista_columnas"
   ]
  },
  {
   "cell_type": "code",
   "execution_count": 25,
   "metadata": {},
   "outputs": [],
   "source": [
    "#Filtering by 2 columns the dataset\n",
    "Searches=Searches[['Date','Destination']]"
   ]
  },
  {
   "cell_type": "code",
   "execution_count": 26,
   "metadata": {},
   "outputs": [],
   "source": [
    "#because the group is important to make sure that does not have lower and upper letters.\n",
    "Searches['Destination']=Searches['Destination'].str.upper()"
   ]
  },
  {
   "cell_type": "code",
   "execution_count": 27,
   "metadata": {},
   "outputs": [],
   "source": [
    "#Creating a new columns named YearMonth with the column date.\n",
    "Searches['YearMonth']=Searches['Date'].str[0:7]"
   ]
  },
  {
   "cell_type": "code",
   "execution_count": 28,
   "metadata": {},
   "outputs": [],
   "source": [
    "#Filtering data by 2 columns and by values MAD,BCN adn AGP in Destination\n",
    "Searches=Searches[['YearMonth','Destination']]\n",
    "Searches=Searches[(Searches['Destination']=='MAD')|(Searches['Destination']=='BCN')|(Searches['Destination']=='AGP')]"
   ]
  },
  {
   "cell_type": "code",
   "execution_count": 29,
   "metadata": {},
   "outputs": [],
   "source": [
    "#use groupby to see how many searches are by month.\n",
    "aggregated=Searches.groupby(['YearMonth','Destination'])['Destination'].agg(['count']).reset_index()"
   ]
  },
  {
   "cell_type": "code",
   "execution_count": 30,
   "metadata": {},
   "outputs": [
    {
     "data": {
      "text/html": [
       "<div>\n",
       "<style scoped>\n",
       "    .dataframe tbody tr th:only-of-type {\n",
       "        vertical-align: middle;\n",
       "    }\n",
       "\n",
       "    .dataframe tbody tr th {\n",
       "        vertical-align: top;\n",
       "    }\n",
       "\n",
       "    .dataframe thead th {\n",
       "        text-align: right;\n",
       "    }\n",
       "</style>\n",
       "<table border=\"1\" class=\"dataframe\">\n",
       "  <thead>\n",
       "    <tr style=\"text-align: right;\">\n",
       "      <th></th>\n",
       "      <th>YearMonth</th>\n",
       "      <th>Destination</th>\n",
       "      <th>count</th>\n",
       "    </tr>\n",
       "  </thead>\n",
       "  <tbody>\n",
       "    <tr>\n",
       "      <th>0</th>\n",
       "      <td>2013-01</td>\n",
       "      <td>AGP</td>\n",
       "      <td>169</td>\n",
       "    </tr>\n",
       "    <tr>\n",
       "      <th>1</th>\n",
       "      <td>2013-01</td>\n",
       "      <td>BCN</td>\n",
       "      <td>517</td>\n",
       "    </tr>\n",
       "    <tr>\n",
       "      <th>2</th>\n",
       "      <td>2013-01</td>\n",
       "      <td>MAD</td>\n",
       "      <td>425</td>\n",
       "    </tr>\n",
       "    <tr>\n",
       "      <th>3</th>\n",
       "      <td>2013-02</td>\n",
       "      <td>AGP</td>\n",
       "      <td>97</td>\n",
       "    </tr>\n",
       "    <tr>\n",
       "      <th>4</th>\n",
       "      <td>2013-02</td>\n",
       "      <td>BCN</td>\n",
       "      <td>357</td>\n",
       "    </tr>\n",
       "    <tr>\n",
       "      <th>5</th>\n",
       "      <td>2013-02</td>\n",
       "      <td>MAD</td>\n",
       "      <td>284</td>\n",
       "    </tr>\n",
       "  </tbody>\n",
       "</table>\n",
       "</div>"
      ],
      "text/plain": [
       "  YearMonth Destination  count\n",
       "0   2013-01         AGP    169\n",
       "1   2013-01         BCN    517\n",
       "2   2013-01         MAD    425\n",
       "3   2013-02         AGP     97\n",
       "4   2013-02         BCN    357\n",
       "5   2013-02         MAD    284"
      ]
     },
     "execution_count": 30,
     "metadata": {},
     "output_type": "execute_result"
    }
   ],
   "source": [
    "aggregated"
   ]
  },
  {
   "cell_type": "code",
   "execution_count": 31,
   "metadata": {},
   "outputs": [
    {
     "data": {
      "text/plain": [
       "<matplotlib.axes._subplots.AxesSubplot at 0x7f18ed2ab6a0>"
      ]
     },
     "execution_count": 31,
     "metadata": {},
     "output_type": "execute_result"
    },
    {
     "data": {
      "image/png": "[encoded data removed]",
      "text/plain": [
       "<Figure size 432x288 with 1 Axes>"
      ]
     },
     "metadata": {
      "needs_background": "light"
     },
     "output_type": "display_data"
    }
   ],
   "source": [
    "#Now we plot it\n",
    "import seaborn as sns\n",
    "sns.lineplot(data=aggregated,x='YearMonth',y='count',hue='Destination')\n",
    "\n",
    "#this is only a sample for 2 months , for that are only 2 points in each line"
   ]
  },
  {
   "cell_type": "markdown",
   "metadata": {},
   "source": [
    "### Working with Big Data"
   ]
  },
  {
   "cell_type": "code",
   "execution_count": 32,
   "metadata": {},
   "outputs": [],
   "source": [
    "from tqdm import tqdm\n",
    "#to see the process of iterations"
   ]
  },
  {
   "cell_type": "code",
   "execution_count": 33,
   "metadata": {},
   "outputs": [],
   "source": [
    "#With this dataset we are going to drop duplicates."
   ]
  },
  {
   "cell_type": "code",
   "execution_count": 34,
   "metadata": {},
   "outputs": [
    {
     "name": "stderr",
     "output_type": "stream",
     "text": [
      "0it [00:00, ?it/s]/home/dsc/anaconda3/lib/python3.7/site-packages/IPython/core/interactiveshell.py:3185: DtypeWarning: Columns (44) have mixed types. Specify dtype option on import or set low_memory=False.\n",
      "  if (yield from self.run_code(code, result)):\n",
      "\n"
     ]
    }
   ],
   "source": [
    "all_chunks=pd.DataFrame()\n",
    "\n",
    "for chunk in tqdm(pd.read_csv('/home/dsc/Data/DSMaster/DSMaster/searches.csv.bz2',sep='^',chunksize=400000)):\n",
    "    \n",
    "    lista_columnas=[]\n",
    "    for i in chunk.columns:\n",
    "        lista_columnas.append(i.strip())\n",
    "        \n",
    "    chunk.columns=lista_columnas\n",
    "    \n",
    "    all_chunks=all_chunks.append(chunk)\n",
    "    \n",
    "    all_chunks.drop_duplicates(inplace=True)\n",
    "    \n",
    "    break\n",
    "     \n",
    "    #we did this because we know there were many duplicates so we can do this.\n",
    "    "
   ]
  },
  {
   "cell_type": "code",
   "execution_count": 35,
   "metadata": {},
   "outputs": [],
   "source": [
    "#Now we did without that duplicates we can manage the dataset normally."
   ]
  },
  {
   "cell_type": "code",
   "execution_count": 36,
   "metadata": {},
   "outputs": [],
   "source": [
    "Searches=all_chunks\n",
    "Searches.to_csv('Searches_noduplicates.csv',sep='^',index=False)\n",
    "Searches=Searches[['Date','Destination']]"
   ]
  },
  {
   "cell_type": "code",
   "execution_count": 37,
   "metadata": {},
   "outputs": [
    {
     "name": "stderr",
     "output_type": "stream",
     "text": [
      "/home/dsc/anaconda3/lib/python3.7/site-packages/ipykernel_launcher.py:1: SettingWithCopyWarning: \n",
      "A value is trying to be set on a copy of a slice from a DataFrame.\n",
      "Try using .loc[row_indexer,col_indexer] = value instead\n",
      "\n",
      "See the caveats in the documentation: http://pandas.pydata.org/pandas-docs/stable/indexing.html#indexing-view-versus-copy\n",
      "  \"\"\"Entry point for launching an IPython kernel.\n"
     ]
    }
   ],
   "source": [
    "Searches['YearMonth']=Searches['Date'].str[0:7]"
   ]
  },
  {
   "cell_type": "code",
   "execution_count": 38,
   "metadata": {},
   "outputs": [],
   "source": [
    "Searches=Searches[['YearMonth','Destination']]\n",
    "Searches=Searches[(Searches['Destination']=='MAD')|(Searches['Destination']=='BCN')|(Searches['Destination']=='AGP')]"
   ]
  },
  {
   "cell_type": "code",
   "execution_count": 39,
   "metadata": {},
   "outputs": [],
   "source": [
    "aggregated=Searches.groupby(['YearMonth','Destination'])['Destination'].agg(['count']).reset_index()"
   ]
  },
  {
   "cell_type": "code",
   "execution_count": 40,
   "metadata": {},
   "outputs": [
    {
     "data": {
      "text/plain": [
       "[Text(0, 0, '2013-01'),\n",
       " Text(0, 0, '2013-01'),\n",
       " Text(0, 0, '2013-01'),\n",
       " Text(0, 0, '2013-02'),\n",
       " Text(0, 0, '2013-02'),\n",
       " Text(0, 0, '2013-02'),\n",
       " Text(0, 0, '2013-03'),\n",
       " Text(0, 0, '2013-03'),\n",
       " Text(0, 0, '2013-03'),\n",
       " Text(0, 0, '2013-04'),\n",
       " Text(0, 0, '2013-04'),\n",
       " Text(0, 0, '2013-04')]"
      ]
     },
     "execution_count": 40,
     "metadata": {},
     "output_type": "execute_result"
    },
    {
     "data": {
      "image/png": "[encoded data removed]",
      "text/plain": [
       "<Figure size 432x288 with 1 Axes>"
      ]
     },
     "metadata": {
      "needs_background": "light"
     },
     "output_type": "display_data"
    }
   ],
   "source": [
    "g=sns.lineplot(data=aggregated,x='YearMonth',y='count',hue='Destination')\n",
    "g.set_xticklabels(rotation=30,labels=aggregated['YearMonth'])"
   ]
  },
  {
   "cell_type": "markdown",
   "metadata": {},
   "source": [
    "## 4 Exercise"
   ]
  },
  {
   "cell_type": "code",
   "execution_count": 41,
   "metadata": {},
   "outputs": [],
   "source": [
    "#creating the routes\n",
    "path_bookings = '/home/dsc/Data/DSMaster/DSMaster/bookings.csv.bz2'\n",
    "path_searches = '/home/dsc/Data/DSMaster/DSMaster/searches.csv.bz2'\n",
    "path_bookings_wn_dup = '/home/dsc/Data/DSMaster/DSMaster/bookings_wn_dup.csv'\n",
    "path_searches_wn_dup = '/home/dsc/Data/DSMaster/DSMaster/searches_wn_dup.csv'"
   ]
  },
  {
   "cell_type": "code",
   "execution_count": 42,
   "metadata": {},
   "outputs": [
    {
     "name": "stdout",
     "output_type": "stream",
     "text": [
      "0 0\n",
      "1 100000\n",
      "2 199999\n",
      "3 299999\n",
      "4 358999\n",
      "5 358999\n",
      "6 358999\n",
      "7 358999\n",
      "8 358999\n",
      "9 358999\n",
      "10 358999\n",
      "11 358999\n",
      "12 358999\n",
      "13 358999\n",
      "14 358999\n",
      "15 359003\n",
      "16 359003\n",
      "17 359003\n",
      "18 359003\n",
      "19 359003\n",
      "20 359003\n",
      "21 359003\n",
      "22 359003\n",
      "23 359003\n",
      "24 359003\n",
      "25 359003\n",
      "26 359003\n",
      "27 359003\n",
      "28 359003\n",
      "29 359003\n",
      "30 359003\n",
      "31 359003\n",
      "32 359003\n",
      "33 359003\n",
      "34 359003\n",
      "35 359003\n",
      "36 359003\n",
      "37 359003\n",
      "38 359003\n",
      "39 359003\n",
      "40 359003\n",
      "41 359003\n",
      "42 359003\n",
      "43 359003\n",
      "44 359003\n",
      "45 359003\n",
      "46 359003\n",
      "47 359003\n",
      "48 359003\n",
      "49 359003\n",
      "50 359003\n",
      "51 359003\n",
      "52 359003\n",
      "53 359003\n",
      "54 359003\n",
      "55 359003\n",
      "56 359003\n",
      "57 359003\n",
      "58 359003\n",
      "59 359003\n",
      "60 359003\n",
      "61 359003\n",
      "62 359003\n",
      "63 359003\n",
      "64 359003\n",
      "65 359003\n",
      "66 359003\n",
      "67 359003\n",
      "68 359003\n",
      "69 359003\n",
      "70 359003\n",
      "71 359003\n",
      "72 359003\n",
      "73 359003\n",
      "74 359003\n",
      "75 359003\n",
      "76 359003\n",
      "77 359003\n",
      "78 359003\n",
      "79 359003\n",
      "80 359003\n",
      "81 359003\n",
      "82 359003\n",
      "83 359003\n",
      "84 359003\n",
      "85 359003\n",
      "86 359003\n",
      "87 359003\n",
      "88 359003\n",
      "89 359003\n",
      "90 359003\n",
      "91 359003\n",
      "92 359003\n",
      "93 359003\n",
      "94 359003\n",
      "95 359003\n",
      "96 359003\n",
      "97 359003\n",
      "98 359003\n",
      "99 359003\n",
      "100 359003\n",
      "101 359003\n",
      "102 359003\n",
      "103 359003\n",
      "104 359003\n",
      "105 359003\n",
      "106 359003\n",
      "107 359003\n",
      "108 359003\n",
      "109 359003\n",
      "110 359003\n",
      "111 359003\n",
      "112 359003\n",
      "113 359003\n",
      "114 359003\n",
      "115 359003\n",
      "116 359003\n",
      "117 359003\n",
      "118 359003\n",
      "119 359003\n",
      "120 359003\n",
      "121 359003\n",
      "122 359003\n",
      "123 359003\n",
      "124 359003\n",
      "125 359003\n",
      "126 359003\n",
      "127 359003\n",
      "128 359003\n",
      "129 359003\n",
      "130 359003\n",
      "131 359003\n",
      "132 359003\n",
      "133 359003\n",
      "134 359003\n",
      "135 359003\n",
      "136 359003\n",
      "137 359003\n",
      "138 359003\n",
      "139 359003\n",
      "140 359003\n",
      "141 359003\n",
      "142 359003\n",
      "143 359003\n",
      "144 359003\n",
      "145 359003\n",
      "146 359003\n",
      "147 359003\n",
      "148 359003\n",
      "149 359003\n",
      "150 359003\n",
      "151 359003\n",
      "152 359003\n",
      "153 359003\n",
      "154 359003\n",
      "155 359003\n",
      "156 359003\n",
      "157 359003\n",
      "158 359003\n",
      "159 359003\n",
      "160 359003\n",
      "161 359003\n",
      "162 359003\n",
      "163 359003\n",
      "164 359003\n",
      "165 359003\n",
      "166 359003\n",
      "167 359003\n",
      "168 359003\n",
      "169 359003\n",
      "170 359003\n",
      "171 359003\n",
      "172 359003\n",
      "173 359003\n",
      "174 359003\n",
      "175 359003\n",
      "176 359003\n",
      "177 359003\n",
      "178 359003\n",
      "179 359003\n",
      "180 359003\n",
      "181 359003\n",
      "182 359003\n",
      "183 359003\n",
      "184 359003\n",
      "185 359003\n",
      "186 359003\n",
      "187 359003\n",
      "188 359003\n",
      "189 359003\n",
      "190 359003\n",
      "191 359003\n",
      "192 359003\n",
      "193 359003\n",
      "194 359003\n",
      "195 359003\n",
      "196 359003\n",
      "197 359003\n",
      "198 359003\n",
      "199 359003\n",
      "200 359003\n",
      "201 359003\n",
      "202 359003\n",
      "203 359003\n"
     ]
    }
   ],
   "source": [
    "#remove duplicates from searchings file\n",
    "\n",
    "bi=pd.read_csv(path_searches, sep=\"^\", chunksize=100000, low_memory=False, dtype=str)\n",
    "all_chunks=pd.DataFrame()\n",
    "\n",
    "for i, chunk in enumerate(bi):\n",
    "    print(i, len(all_chunks))\n",
    "    all_chunks=all_chunks.append(chunk)\n",
    "    all_chunks.drop_duplicates(inplace=True)\n",
    "all_chunks.columns=all_chunks.columns.str.strip()   \n",
    "all_chunks.to_csv(path_searches_wn_dup, sep='^', index=False)"
   ]
  },
  {
   "cell_type": "code",
   "execution_count": 43,
   "metadata": {},
   "outputs": [
    {
     "name": "stdout",
     "output_type": "stream",
     "text": [
      "0 0\n",
      "1 100000\n",
      "2 200000\n",
      "3 300000\n",
      "4 400000\n",
      "5 500000\n",
      "6 600000\n",
      "7 700000\n",
      "8 800000\n",
      "9 900000\n",
      "10 1000000\n",
      "11 1000000\n",
      "12 1000000\n",
      "13 1000000\n",
      "14 1000000\n",
      "15 1000000\n",
      "16 1000000\n",
      "17 1000000\n",
      "18 1000000\n",
      "19 1000000\n",
      "20 1000000\n",
      "21 1000000\n",
      "22 1000000\n",
      "23 1000000\n",
      "24 1000000\n",
      "25 1000000\n",
      "26 1000000\n",
      "27 1000000\n",
      "28 1000000\n",
      "29 1000000\n",
      "30 1000000\n",
      "31 1000000\n",
      "32 1000000\n",
      "33 1000000\n",
      "34 1000000\n",
      "35 1000000\n",
      "36 1000000\n",
      "37 1000000\n",
      "38 1000000\n",
      "39 1000000\n",
      "40 1000000\n",
      "41 1000000\n",
      "42 1000000\n",
      "43 1000000\n",
      "44 1000000\n",
      "45 1000000\n",
      "46 1000000\n",
      "47 1000000\n",
      "48 1000000\n",
      "49 1000000\n",
      "50 1000000\n",
      "51 1000003\n",
      "52 1000003\n",
      "53 1000003\n",
      "54 1000003\n",
      "55 1000003\n",
      "56 1000003\n",
      "57 1000003\n",
      "58 1000003\n",
      "59 1000003\n",
      "60 1000003\n",
      "61 1000003\n",
      "62 1000003\n",
      "63 1000003\n",
      "64 1000003\n",
      "65 1000003\n",
      "66 1000003\n",
      "67 1000003\n",
      "68 1000003\n",
      "69 1000003\n",
      "70 1000003\n",
      "71 1000003\n",
      "72 1000003\n",
      "73 1000003\n",
      "74 1000003\n",
      "75 1000003\n",
      "76 1000003\n",
      "77 1000003\n",
      "78 1000003\n",
      "79 1000003\n",
      "80 1000003\n",
      "81 1000003\n",
      "82 1000003\n",
      "83 1000003\n",
      "84 1000003\n",
      "85 1000003\n",
      "86 1000003\n",
      "87 1000003\n",
      "88 1000003\n",
      "89 1000003\n",
      "90 1000003\n",
      "91 1000003\n",
      "92 1000003\n",
      "93 1000003\n",
      "94 1000003\n",
      "95 1000003\n",
      "96 1000003\n",
      "97 1000003\n",
      "98 1000003\n",
      "99 1000003\n",
      "100 1000003\n"
     ]
    }
   ],
   "source": [
    "#remove duplicates from bookings file\n",
    "\n",
    "bi=pd.read_csv(path_bookings, sep=\"^\", chunksize=100000, low_memory=False, dtype=str)\n",
    "all_chunks=pd.DataFrame()\n",
    "\n",
    "for i, chunk in enumerate(bi):\n",
    "    print(i, len(all_chunks))\n",
    "    all_chunks=all_chunks.append(chunk)\n",
    "    all_chunks.drop_duplicates(inplace=True)\n",
    "all_chunks.columns=all_chunks.columns.str.strip()   \n",
    "all_chunks.to_csv(path_bookings_wn_dup, sep='^', index=False)"
   ]
  },
  {
   "cell_type": "code",
   "execution_count": 44,
   "metadata": {},
   "outputs": [
    {
     "name": "stderr",
     "output_type": "stream",
     "text": [
      "/home/dsc/anaconda3/lib/python3.7/site-packages/IPython/core/interactiveshell.py:3020: DtypeWarning: Columns (40,41,42,44) have mixed types. Specify dtype option on import or set low_memory=False.\n",
      "  interactivity=interactivity, compiler=compiler, result=result)\n",
      "/home/dsc/anaconda3/lib/python3.7/site-packages/IPython/core/interactiveshell.py:3020: DtypeWarning: Columns (7,8,27) have mixed types. Specify dtype option on import or set low_memory=False.\n",
      "  interactivity=interactivity, compiler=compiler, result=result)\n"
     ]
    }
   ],
   "source": [
    "searches=pd.read_csv(path_searches_wn_dup,sep='^')\n",
    "bookings=pd.read_csv(path_bookings_wn_dup,sep='^')"
   ]
  },
  {
   "cell_type": "code",
   "execution_count": 45,
   "metadata": {},
   "outputs": [
    {
     "name": "stdout",
     "output_type": "stream",
     "text": [
      "<class 'pandas.core.frame.DataFrame'>\n",
      "RangeIndex: 359004 entries, 0 to 359003\n",
      "Data columns (total 45 columns):\n",
      "Date                 359004 non-null object\n",
      "Time                 359003 non-null object\n",
      "TxnCode              359003 non-null object\n",
      "OfficeID             359003 non-null object\n",
      "Country              358960 non-null object\n",
      "Origin               359003 non-null object\n",
      "Destination          359003 non-null object\n",
      "RoundTrip            359002 non-null float64\n",
      "NbSegments           359002 non-null float64\n",
      "Seg1Departure        359002 non-null object\n",
      "Seg1Arrival          359002 non-null object\n",
      "Seg1Date             357977 non-null object\n",
      "Seg1Carrier          135460 non-null object\n",
      "Seg1BookingCode      36608 non-null object\n",
      "Seg2Departure        254959 non-null object\n",
      "Seg2Arrival          254959 non-null object\n",
      "Seg2Date             253740 non-null object\n",
      "Seg2Carrier          94220 non-null object\n",
      "Seg2BookingCode      31470 non-null object\n",
      "Seg3Departure        18714 non-null object\n",
      "Seg3Arrival          18714 non-null object\n",
      "Seg3Date             18606 non-null object\n",
      "Seg3Carrier          17794 non-null object\n",
      "Seg3BookingCode      16980 non-null object\n",
      "Seg4Departure        15090 non-null object\n",
      "Seg4Arrival          15090 non-null object\n",
      "Seg4Date             14994 non-null object\n",
      "Seg4Carrier          14963 non-null object\n",
      "Seg4BookingCode      14765 non-null object\n",
      "Seg5Departure        2886 non-null object\n",
      "Seg5Arrival          2886 non-null object\n",
      "Seg5Date             2862 non-null object\n",
      "Seg5Carrier          2870 non-null object\n",
      "Seg5BookingCode      2824 non-null object\n",
      "Seg6Departure        1724 non-null object\n",
      "Seg6Arrival          1724 non-null object\n",
      "Seg6Date             1707 non-null object\n",
      "Seg6Carrier          1724 non-null object\n",
      "Seg6BookingCode      1692 non-null object\n",
      "From                 352879 non-null object\n",
      "IsPublishedForNeg    359002 non-null object\n",
      "IsFromInternet       359002 non-null object\n",
      "IsFromVista          359001 non-null object\n",
      "TerminalID           359000 non-null object\n",
      "InternetOffice       359000 non-null object\n",
      "dtypes: float64(2), object(43)\n",
      "memory usage: 123.3+ MB\n"
     ]
    },
    {
     "data": {
      "text/plain": [
       "(None, Index(['Date', 'Time', 'TxnCode', 'OfficeID', 'Country', 'Origin',\n",
       "        'Destination', 'RoundTrip', 'NbSegments', 'Seg1Departure',\n",
       "        'Seg1Arrival', 'Seg1Date', 'Seg1Carrier', 'Seg1BookingCode',\n",
       "        'Seg2Departure', 'Seg2Arrival', 'Seg2Date', 'Seg2Carrier',\n",
       "        'Seg2BookingCode', 'Seg3Departure', 'Seg3Arrival', 'Seg3Date',\n",
       "        'Seg3Carrier', 'Seg3BookingCode', 'Seg4Departure', 'Seg4Arrival',\n",
       "        'Seg4Date', 'Seg4Carrier', 'Seg4BookingCode', 'Seg5Departure',\n",
       "        'Seg5Arrival', 'Seg5Date', 'Seg5Carrier', 'Seg5BookingCode',\n",
       "        'Seg6Departure', 'Seg6Arrival', 'Seg6Date', 'Seg6Carrier',\n",
       "        'Seg6BookingCode', 'From', 'IsPublishedForNeg', 'IsFromInternet',\n",
       "        'IsFromVista', 'TerminalID', 'InternetOffice'],\n",
       "       dtype='object'), Date                      0\n",
       " Time                      1\n",
       " TxnCode                   1\n",
       " OfficeID                  1\n",
       " Country                  44\n",
       " Origin                    1\n",
       " Destination               1\n",
       " RoundTrip                 2\n",
       " NbSegments                2\n",
       " Seg1Departure             2\n",
       " Seg1Arrival               2\n",
       " Seg1Date               1027\n",
       " Seg1Carrier          223544\n",
       " Seg1BookingCode      322396\n",
       " Seg2Departure        104045\n",
       " Seg2Arrival          104045\n",
       " Seg2Date             105264\n",
       " Seg2Carrier          264784\n",
       " Seg2BookingCode      327534\n",
       " Seg3Departure        340290\n",
       " Seg3Arrival          340290\n",
       " Seg3Date             340398\n",
       " Seg3Carrier          341210\n",
       " Seg3BookingCode      342024\n",
       " Seg4Departure        343914\n",
       " Seg4Arrival          343914\n",
       " Seg4Date             344010\n",
       " Seg4Carrier          344041\n",
       " Seg4BookingCode      344239\n",
       " Seg5Departure        356118\n",
       " Seg5Arrival          356118\n",
       " Seg5Date             356142\n",
       " Seg5Carrier          356134\n",
       " Seg5BookingCode      356180\n",
       " Seg6Departure        357280\n",
       " Seg6Arrival          357280\n",
       " Seg6Date             357297\n",
       " Seg6Carrier          357280\n",
       " Seg6BookingCode      357312\n",
       " From                   6125\n",
       " IsPublishedForNeg         2\n",
       " IsFromInternet            2\n",
       " IsFromVista               3\n",
       " TerminalID                4\n",
       " InternetOffice            4\n",
       " dtype: int64)"
      ]
     },
     "execution_count": 45,
     "metadata": {},
     "output_type": "execute_result"
    }
   ],
   "source": [
    "searches.info(),searches.columns,searches.isna().sum()"
   ]
  },
  {
   "cell_type": "code",
   "execution_count": 46,
   "metadata": {},
   "outputs": [
    {
     "name": "stdout",
     "output_type": "stream",
     "text": [
      "<class 'pandas.core.frame.DataFrame'>\n",
      "RangeIndex: 1000003 entries, 0 to 1000002\n",
      "Data columns (total 38 columns):\n",
      "act_date     1000003 non-null object\n",
      "source       1000003 non-null object\n",
      "pos_ctry     1000002 non-null object\n",
      "pos_iata     1000003 non-null object\n",
      "pos_oid      1000003 non-null object\n",
      "rloc         1000003 non-null object\n",
      "cre_date     1000003 non-null object\n",
      "duration     1000003 non-null object\n",
      "distance     1000003 non-null object\n",
      "dep_port     1000003 non-null object\n",
      "dep_city     1000003 non-null object\n",
      "dep_ctry     1000003 non-null object\n",
      "arr_port     1000003 non-null object\n",
      "arr_city     1000003 non-null object\n",
      "arr_ctry     1000003 non-null object\n",
      "lst_port     1000003 non-null object\n",
      "lst_city     1000003 non-null object\n",
      "lst_ctry     1000003 non-null object\n",
      "brd_port     1000003 non-null object\n",
      "brd_city     1000002 non-null object\n",
      "brd_ctry     1000003 non-null object\n",
      "off_port     1000003 non-null object\n",
      "off_city     1000003 non-null object\n",
      "off_ctry     1000003 non-null object\n",
      "mkt_port     1000003 non-null object\n",
      "mkt_city     1000003 non-null object\n",
      "mkt_ctry     1000003 non-null object\n",
      "intl         1000003 non-null object\n",
      "route        1000003 non-null object\n",
      "carrier      1000003 non-null object\n",
      "bkg_class    1000003 non-null object\n",
      "cab_class    1000003 non-null object\n",
      "brd_time     1000003 non-null object\n",
      "off_time     1000003 non-null object\n",
      "pax          1000002 non-null float64\n",
      "year         1000002 non-null float64\n",
      "month        1000002 non-null float64\n",
      "oid          1000002 non-null object\n",
      "dtypes: float64(3), object(35)\n",
      "memory usage: 289.9+ MB\n"
     ]
    },
    {
     "data": {
      "text/plain": [
       "(None, Index(['act_date', 'source', 'pos_ctry', 'pos_iata', 'pos_oid', 'rloc',\n",
       "        'cre_date', 'duration', 'distance', 'dep_port', 'dep_city', 'dep_ctry',\n",
       "        'arr_port', 'arr_city', 'arr_ctry', 'lst_port', 'lst_city', 'lst_ctry',\n",
       "        'brd_port', 'brd_city', 'brd_ctry', 'off_port', 'off_city', 'off_ctry',\n",
       "        'mkt_port', 'mkt_city', 'mkt_ctry', 'intl', 'route', 'carrier',\n",
       "        'bkg_class', 'cab_class', 'brd_time', 'off_time', 'pax', 'year',\n",
       "        'month', 'oid'],\n",
       "       dtype='object'), act_date     0\n",
       " source       0\n",
       " pos_ctry     1\n",
       " pos_iata     0\n",
       " pos_oid      0\n",
       " rloc         0\n",
       " cre_date     0\n",
       " duration     0\n",
       " distance     0\n",
       " dep_port     0\n",
       " dep_city     0\n",
       " dep_ctry     0\n",
       " arr_port     0\n",
       " arr_city     0\n",
       " arr_ctry     0\n",
       " lst_port     0\n",
       " lst_city     0\n",
       " lst_ctry     0\n",
       " brd_port     0\n",
       " brd_city     1\n",
       " brd_ctry     0\n",
       " off_port     0\n",
       " off_city     0\n",
       " off_ctry     0\n",
       " mkt_port     0\n",
       " mkt_city     0\n",
       " mkt_ctry     0\n",
       " intl         0\n",
       " route        0\n",
       " carrier      0\n",
       " bkg_class    0\n",
       " cab_class    0\n",
       " brd_time     0\n",
       " off_time     0\n",
       " pax          1\n",
       " year         1\n",
       " month        1\n",
       " oid          1\n",
       " dtype: int64)"
      ]
     },
     "execution_count": 46,
     "metadata": {},
     "output_type": "execute_result"
    }
   ],
   "source": [
    "bookings.info(),bookings.columns,bookings.isna().sum()"
   ]
  },
  {
   "cell_type": "code",
   "execution_count": 47,
   "metadata": {},
   "outputs": [
    {
     "data": {
      "text/plain": [
       "(1000003, 359004)"
      ]
     },
     "execution_count": 47,
     "metadata": {},
     "output_type": "execute_result"
    }
   ],
   "source": [
    "#see the length of both tables\n",
    "len(bookings),len(searches)"
   ]
  },
  {
   "cell_type": "code",
   "execution_count": 49,
   "metadata": {},
   "outputs": [
    {
     "data": {
      "text/html": [
       "<div>\n",
       "<style scoped>\n",
       "    .dataframe tbody tr th:only-of-type {\n",
       "        vertical-align: middle;\n",
       "    }\n",
       "\n",
       "    .dataframe tbody tr th {\n",
       "        vertical-align: top;\n",
       "    }\n",
       "\n",
       "    .dataframe thead th {\n",
       "        text-align: right;\n",
       "    }\n",
       "</style>\n",
       "<table border=\"1\" class=\"dataframe\">\n",
       "  <thead>\n",
       "    <tr style=\"text-align: right;\">\n",
       "      <th></th>\n",
       "      <th>Date</th>\n",
       "      <th>Time</th>\n",
       "      <th>TxnCode</th>\n",
       "      <th>OfficeID</th>\n",
       "      <th>Country</th>\n",
       "      <th>Origin</th>\n",
       "      <th>Destination</th>\n",
       "      <th>RoundTrip</th>\n",
       "      <th>NbSegments</th>\n",
       "      <th>Seg1Departure</th>\n",
       "      <th>...</th>\n",
       "      <th>Seg6Date</th>\n",
       "      <th>Seg6Carrier</th>\n",
       "      <th>Seg6BookingCode</th>\n",
       "      <th>From</th>\n",
       "      <th>IsPublishedForNeg</th>\n",
       "      <th>IsFromInternet</th>\n",
       "      <th>IsFromVista</th>\n",
       "      <th>TerminalID</th>\n",
       "      <th>InternetOffice</th>\n",
       "      <th>Booked</th>\n",
       "    </tr>\n",
       "  </thead>\n",
       "  <tbody>\n",
       "    <tr>\n",
       "      <th>261188</th>\n",
       "      <td>2013-09-19</td>\n",
       "      <td>17:46:58</td>\n",
       "      <td>FXX</td>\n",
       "      <td>39964172ed1a0ec40ac97a44a68b8951</td>\n",
       "      <td>FR</td>\n",
       "      <td>CDG</td>\n",
       "      <td>BKO</td>\n",
       "      <td>1.0</td>\n",
       "      <td>2.0</td>\n",
       "      <td>CDG</td>\n",
       "      <td>...</td>\n",
       "      <td>NaN</td>\n",
       "      <td>NaN</td>\n",
       "      <td>NaN</td>\n",
       "      <td>1ASI</td>\n",
       "      <td>0</td>\n",
       "      <td>0</td>\n",
       "      <td>0</td>\n",
       "      <td>1c30109a5293c01529ce93809462530e</td>\n",
       "      <td>0</td>\n",
       "      <td>1</td>\n",
       "    </tr>\n",
       "    <tr>\n",
       "      <th>153743</th>\n",
       "      <td>2013-06-03</td>\n",
       "      <td>15:01:20</td>\n",
       "      <td>FQP</td>\n",
       "      <td>ba6ba4349ea26fe4eeed65acc7645415</td>\n",
       "      <td>FR</td>\n",
       "      <td>CMN</td>\n",
       "      <td>ORY</td>\n",
       "      <td>0.0</td>\n",
       "      <td>1.0</td>\n",
       "      <td>CMN</td>\n",
       "      <td>...</td>\n",
       "      <td>NaN</td>\n",
       "      <td>NaN</td>\n",
       "      <td>NaN</td>\n",
       "      <td>1ASI</td>\n",
       "      <td>0</td>\n",
       "      <td>0</td>\n",
       "      <td>0</td>\n",
       "      <td>b33b9678b012a235e922a8f2651296ce</td>\n",
       "      <td>MLH</td>\n",
       "      <td>1</td>\n",
       "    </tr>\n",
       "    <tr>\n",
       "      <th>28668</th>\n",
       "      <td>2013-01-29</td>\n",
       "      <td>13:11:05</td>\n",
       "      <td>FXX</td>\n",
       "      <td>a13c1924b60958f74d56d109255a0a78</td>\n",
       "      <td>ES</td>\n",
       "      <td>AMS</td>\n",
       "      <td>MAD</td>\n",
       "      <td>1.0</td>\n",
       "      <td>2.0</td>\n",
       "      <td>AMS</td>\n",
       "      <td>...</td>\n",
       "      <td>NaN</td>\n",
       "      <td>NaN</td>\n",
       "      <td>NaN</td>\n",
       "      <td>1ASI</td>\n",
       "      <td>0</td>\n",
       "      <td>0</td>\n",
       "      <td>0</td>\n",
       "      <td>98aef6e6d34f6c028002554002670821</td>\n",
       "      <td>BCN</td>\n",
       "      <td>1</td>\n",
       "    </tr>\n",
       "    <tr>\n",
       "      <th>14298</th>\n",
       "      <td>2013-01-15</td>\n",
       "      <td>05:11:55</td>\n",
       "      <td>MPT</td>\n",
       "      <td>b04e0620a297a1b50819d31535aa5b61</td>\n",
       "      <td>US</td>\n",
       "      <td>BOS</td>\n",
       "      <td>SJU</td>\n",
       "      <td>1.0</td>\n",
       "      <td>2.0</td>\n",
       "      <td>BOS</td>\n",
       "      <td>...</td>\n",
       "      <td>NaN</td>\n",
       "      <td>NaN</td>\n",
       "      <td>NaN</td>\n",
       "      <td>1ASI</td>\n",
       "      <td>0</td>\n",
       "      <td>0</td>\n",
       "      <td>0</td>\n",
       "      <td>d41d8cd98f00b204e9800998ecf8427e</td>\n",
       "      <td>DTW</td>\n",
       "      <td>1</td>\n",
       "    </tr>\n",
       "    <tr>\n",
       "      <th>301423</th>\n",
       "      <td>2013-10-29</td>\n",
       "      <td>07:52:02</td>\n",
       "      <td>FFP</td>\n",
       "      <td>3fb2dcb9369b6c67f40182b9bce4beb3</td>\n",
       "      <td>ES</td>\n",
       "      <td>MAD</td>\n",
       "      <td>LIS</td>\n",
       "      <td>0.0</td>\n",
       "      <td>1.0</td>\n",
       "      <td>MAD</td>\n",
       "      <td>...</td>\n",
       "      <td>NaN</td>\n",
       "      <td>NaN</td>\n",
       "      <td>NaN</td>\n",
       "      <td>1ASIWS</td>\n",
       "      <td>0</td>\n",
       "      <td>0</td>\n",
       "      <td>0</td>\n",
       "      <td>d41d8cd98f00b204e9800998ecf8427e</td>\n",
       "      <td>0</td>\n",
       "      <td>1</td>\n",
       "    </tr>\n",
       "  </tbody>\n",
       "</table>\n",
       "<p>5 rows × 46 columns</p>\n",
       "</div>"
      ],
      "text/plain": [
       "              Date      Time TxnCode                          OfficeID  \\\n",
       "261188  2013-09-19  17:46:58     FXX  39964172ed1a0ec40ac97a44a68b8951   \n",
       "153743  2013-06-03  15:01:20     FQP  ba6ba4349ea26fe4eeed65acc7645415   \n",
       "28668   2013-01-29  13:11:05     FXX  a13c1924b60958f74d56d109255a0a78   \n",
       "14298   2013-01-15  05:11:55     MPT  b04e0620a297a1b50819d31535aa5b61   \n",
       "301423  2013-10-29  07:52:02     FFP  3fb2dcb9369b6c67f40182b9bce4beb3   \n",
       "\n",
       "       Country Origin Destination  RoundTrip  NbSegments Seg1Departure  ...    \\\n",
       "261188      FR    CDG         BKO        1.0         2.0           CDG  ...     \n",
       "153743      FR    CMN         ORY        0.0         1.0           CMN  ...     \n",
       "28668       ES    AMS         MAD        1.0         2.0           AMS  ...     \n",
       "14298       US    BOS         SJU        1.0         2.0           BOS  ...     \n",
       "301423      ES    MAD         LIS        0.0         1.0           MAD  ...     \n",
       "\n",
       "       Seg6Date Seg6Carrier Seg6BookingCode    From IsPublishedForNeg  \\\n",
       "261188      NaN         NaN             NaN    1ASI                 0   \n",
       "153743      NaN         NaN             NaN    1ASI                 0   \n",
       "28668       NaN         NaN             NaN    1ASI                 0   \n",
       "14298       NaN         NaN             NaN    1ASI                 0   \n",
       "301423      NaN         NaN             NaN  1ASIWS                 0   \n",
       "\n",
       "       IsFromInternet IsFromVista                        TerminalID  \\\n",
       "261188              0           0  1c30109a5293c01529ce93809462530e   \n",
       "153743              0           0  b33b9678b012a235e922a8f2651296ce   \n",
       "28668               0           0  98aef6e6d34f6c028002554002670821   \n",
       "14298               0           0  d41d8cd98f00b204e9800998ecf8427e   \n",
       "301423              0           0  d41d8cd98f00b204e9800998ecf8427e   \n",
       "\n",
       "       InternetOffice Booked  \n",
       "261188              0      1  \n",
       "153743            MLH      1  \n",
       "28668             BCN      1  \n",
       "14298             DTW      1  \n",
       "301423              0      1  \n",
       "\n",
       "[5 rows x 46 columns]"
      ]
     },
     "execution_count": 49,
     "metadata": {},
     "output_type": "execute_result"
    }
   ],
   "source": [
    "#we do the merge between searches and bookings\n",
    "import pandas as pd\n",
    "bookings=pd.read_csv('bookings_wn_dup.csv', sep='^', usecols=['act_date', 'dep_port', 'arr_port'])\n",
    "searches=pd.read_csv('searches_wn_dup.csv', sep='^', low_memory=False)\n",
    "bookings.drop_duplicates(inplace=True)\n",
    "bookings.columns=bookings.columns.str.strip()\n",
    "bookings['arr_port']=bookings['arr_port'].str.strip()\n",
    "bookings['dep_port']=bookings['dep_port'].str.strip()\n",
    "bookings['act_date']=bookings['act_date'].str[0:10]\n",
    "searches['Date']=searches['Date'].str[0:10]\n",
    "bookings['Booked']=1\n",
    "\n",
    "searches_bookings=searches.merge(bookings,\n",
    "            how='left', \n",
    "            left_on=['Date', 'Origin', 'Destination'],\n",
    "            right_on=['act_date', 'dep_port', 'arr_port'])\n",
    "\n",
    "searches_bookings['Booked']=searches_bookings['Booked'].fillna(0)\n",
    "searches_bookings.drop(['act_date', 'dep_port', 'arr_port'], axis=1, inplace=True)\n",
    "searches_bookings=searches_bookings.astype({'Booked':int})\n",
    "searches_bookings[searches_bookings['Booked']==1 ].sample(5)"
   ]
  },
  {
   "cell_type": "code",
   "execution_count": 51,
   "metadata": {},
   "outputs": [],
   "source": [
    "searches_bookings.to_csv('searches_with_bookings.csv', sep='^', index=False)"
   ]
  }
 ],
 "metadata": {
  "kernelspec": {
   "display_name": "Python 3",
   "language": "python",
   "name": "python3"
  },
  "language_info": {
   "codemirror_mode": {
    "name": "ipython",
    "version": 3
   },
   "file_extension": ".py",
   "mimetype": "text/x-python",
   "name": "python",
   "nbconvert_exporter": "python",
   "pygments_lexer": "ipython3",
   "version": "3.7.1"
  }
 },
 "nbformat": 4,
 "nbformat_minor": 2
}
